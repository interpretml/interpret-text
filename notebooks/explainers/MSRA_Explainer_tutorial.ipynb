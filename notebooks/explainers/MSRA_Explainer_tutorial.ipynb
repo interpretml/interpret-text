{
 "cells": [
  {
   "cell_type": "code",
   "execution_count": null,
   "metadata": {},
   "outputs": [],
   "source": [
    "%load_ext autoreload\n",
    "%autoreload 2\n",
    "\n",
    "import pickle\n",
    "import shutil\n",
    "import numpy as np\n",
    "import logging\n",
    "import shap\n",
    "import torch\n",
    "import json\n",
    "from numpy import dot\n",
    "from numpy.linalg import norm\n",
    "from urllib import request\n",
    "from pytorch_pretrained_bert import BertModel, BertTokenizer\n",
    "\n",
    "from interpret_text.msra.MSRAExplainer import MSRAExplainer"
   ]
  },
  {
   "cell_type": "code",
   "execution_count": null,
   "metadata": {},
   "outputs": [],
   "source": [
    "DATA_FOLDER = \"./temp\"\n",
    "device = torch.device(\"cpu\" if not torch.cuda.is_available() else \"cuda\")"
   ]
  },
  {
   "cell_type": "markdown",
   "metadata": {},
   "source": [
    "A function to generate embeddings for BERT Input"
   ]
  },
  {
   "cell_type": "code",
   "execution_count": null,
   "metadata": {},
   "outputs": [],
   "source": [
    "def embeddings_bert(text, device):\n",
    "    # get the tokenized words.\n",
    "    tokenizer = BertTokenizer.from_pretrained(\"bert-base-uncased\")\n",
    "    words = [\"[CLS]\"] + tokenizer.tokenize(text) + [\"[SEP]\"]\n",
    "    tokenized_ids = tokenizer.convert_tokens_to_ids(words)\n",
    "    segment_ids = [0 for _ in range(len(words))]\n",
    "    token_tensor = torch.tensor([tokenized_ids], device=device)\n",
    "    segment_tensor = torch.tensor([segment_ids], device=device)\n",
    "    x_bert = model.embeddings(token_tensor, segment_tensor)[0]\n",
    "    return x_bert"
   ]
  },
  {
   "cell_type": "markdown",
   "metadata": {},
   "source": [
    "Let's load the BERT base model with the saved finetuned parameters"
   ]
  },
  {
   "cell_type": "code",
   "execution_count": null,
   "metadata": {},
   "outputs": [],
   "source": [
    "#load the finetuned parameters\n",
    "model_state_dict = torch.load(\"models/model.pth\")\n",
    "#Load BERT base model with the finetuned parameters\n",
    "# model = BertModel.from_pretrained(\"bert-base-uncased\", state_dict=model_state_dict)\n",
    "model = BertModel.from_pretrained(\"bert-base-uncased\")\n",
    "model.to(device)\n",
    "\n",
    "for param in model.parameters():\n",
    "    param.requires_grad = False\n",
    "model.eval()"
   ]
  },
  {
   "cell_type": "markdown",
   "metadata": {},
   "source": [
    "Now we generate the embeddings for the input text and initialize the interpreter. We also calculate the regularization parameter required by the MSR Asia Explainer using the function provided by the Explainer class."
   ]
  },
  {
   "cell_type": "code",
   "execution_count": null,
   "metadata": {},
   "outputs": [],
   "source": [
    "text = \"rare bird has more than enough charm to make it memorable.\"\n",
    "embedded_input = embeddings_bert(text, device)\n",
    "interpreter_msra = MSRAExplainer(device=device)\n",
    "regularization = interpreter_msra.getRegularizationBERT(model=model)\n",
    "\n",
    "# to calculate the regularization for the fine_tuned BERT\n",
    "# tokens_train = torch.tensor(pickle.load( open( \"dataset/tokens.p\", \"rb\" ) ))\n",
    "# embedding_x = model.embeddings(tokens_train)\n",
    "# regularization = interpreter_msra.calculate_regularization(embedding_x, model, device, explain_layer=3, reduced_axes=None).tolist()[0]"
   ]
  },
  {
   "cell_type": "markdown",
   "metadata": {},
   "source": [
    "We then call explain_local on the interpreter."
   ]
  },
  {
   "cell_type": "code",
   "execution_count": null,
   "metadata": {},
   "outputs": [],
   "source": [
    "explanation_msra = interpreter_msra.explain_local(model=model, embedded_input=embedded_input, regularization=regularization)"
   ]
  },
  {
   "cell_type": "markdown",
   "metadata": {},
   "source": [
    "Basic visualization until the visualization dashboard is fully integrated as a python widget"
   ]
  },
  {
   "cell_type": "code",
   "execution_count": null,
   "metadata": {},
   "outputs": [],
   "source": [
    "interpreter_msra.visualize(text)"
   ]
  },
  {
   "cell_type": "code",
   "execution_count": null,
   "metadata": {},
   "outputs": [],
   "source": []
  }
 ],
 "metadata": {
  "kernelspec": {
   "display_name": "Python (interpret-text)",
   "language": "python",
   "name": "interpret-text-kernel"
  },
  "language_info": {
   "codemirror_mode": {
    "name": "ipython",
    "version": 3
   },
   "file_extension": ".py",
   "mimetype": "text/x-python",
   "name": "python",
   "nbconvert_exporter": "python",
   "pygments_lexer": "ipython3",
   "version": "3.7.4"
  }
 },
 "nbformat": 4,
 "nbformat_minor": 2
}
