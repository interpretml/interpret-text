{
 "cells": [
  {
   "cell_type": "code",
   "execution_count": null,
   "metadata": {},
   "outputs": [],
   "source": [
    "%matplotlib inline"
   ]
  },
  {
   "cell_type": "code",
   "execution_count": null,
   "metadata": {},
   "outputs": [],
   "source": [
    "#import libraries\n",
    "import sys\n",
    "import os\n",
    "import json\n",
    "import pandas as pd\n",
    "import numpy as np\n",
    "import scipy\n",
    "import string\n",
    "from scrapbook.api import glue\n",
    "working_dir = %pwd\n",
    "\n",
    "from interpret_text.bow.BOWExplainer import BOWExplainer\n",
    "#from interpret_text.common.utils_bow import BOWTokenizer, BOWEncoder\n",
    "\n",
    "# sklearn\n",
    "from sklearn.metrics import classification_report, accuracy_score, precision_recall_fscore_support\n",
    "from sklearn.model_selection import train_test_split\n",
    "from sklearn.base import TransformerMixin\n",
    "from sklearn.pipeline import Pipeline\n",
    "from sklearn.feature_extraction.text import CountVectorizer\n",
    "from sklearn.model_selection import GridSearchCV\n",
    "from sklearn.linear_model import LogisticRegression\n",
    "\n",
    "# spacy and nlp recipes\n",
    "import spacy\n",
    "from spacy.lang.en import English\n",
    "from utils_nlp.dataset.multinli import load_pandas_df"
   ]
  },
  {
   "cell_type": "code",
   "execution_count": null,
   "metadata": {},
   "outputs": [],
   "source": [
    "#SPACY_LANG_MODEL = 'en_core_web_md'\n",
    "DATA_FOLDER = './prod_training_data/'\n",
    "TRAIN_SIZE = 0.7\n",
    "TEST_SIZE = 0.3"
   ]
  },
  {
   "cell_type": "code",
   "execution_count": null,
   "metadata": {},
   "outputs": [],
   "source": [
    "suffix = \"_labeled_feedback.txt\"\n",
    "explainer_dict = {filename[:-1*len(suffix)]:{\"explainer\":None, \"filename\":filename} for filename in os.listdir(DATA_FOLDER)}"
   ]
  },
  {
   "cell_type": "code",
   "execution_count": null,
   "metadata": {},
   "outputs": [],
   "source": [
    "for category in explainer_dict:\n",
    "    filename = explainer_dict[category][\"filename\"]\n",
    "    df_reach = pd.read_csv(DATA_FOLDER+filename, sep=\"\\t\")\n",
    "\n",
    "    # fetch documents and labels from data frame\n",
    "    X_str = df['verbatim'] # the document we want to analyze\n",
    "    ylabels = df['cannot_reach_page'].apply(str) # the labels, or answers, we want to test against converted to strings\n",
    "    # Create explainer object that contains defaault glassbox classfier and explanation methods\n",
    "    bow_explainer = BOWExplainer()\n",
    "    # encode document and labels into vector form using 1-gram Bag of Words.\n",
    "    X_train, X_test, y_train, y_test = bow_explainer.encode(X_str,ylabels)\n",
    "    classifier, best_params = bow_explainer.train(X_train,y_train)\n",
    "    # obtain best classifier and hyper params\n",
    "    print(\"best classifier for {}: \".format(category) + str(best_params))\n",
    "    mean_accuracy = classifier.score(X_test, y_test, sample_weight=None)\n",
    "    print(\"accuracy for {}= \".format(category) + str(mean_accuracy*100) + \"%\")\n",
    "    y_pred = classifier.predict(X_test)\n",
    "    [precision, recall, fscore, support] = precision_recall_fscore_support(y_test, y_pred,average='macro')\n",
    "    explainer_dict[category][\"explainer\"] = bow_explainer\n",
    "    "
   ]
  },
  {
   "cell_type": "code",
   "execution_count": null,
   "metadata": {},
   "outputs": [],
   "source": [
    "bow_explainer = explainer_dict[\"cannot_reach_page\"][\"explainer\"]\n",
    "# bow_explainer = explainer_dict[\"vpn_issue\"][\"explainer\"]\n",
    "print(\"The class names are as follows\")\n",
    "print(bow_explainer.preprocessor.labelEncoder.classes_)\n",
    "label_name = \"0.0\"\n",
    "\n",
    "#Obtain the top feature ids for the selected class label.           \n",
    "#Map top features back to words.\n",
    "top_words, top_importances = bow_explainer.explain_global(label_name)"
   ]
  },
  {
   "cell_type": "code",
   "execution_count": null,
   "metadata": {},
   "outputs": [],
   "source": [
    "#Enter any document & label pair that needs to be interpreted\n",
    "document = \"Can't reach this page https://webmail.optusnet.com.au/index.php/mail | Can not connect to Optus Web Mail.\"\n",
    "#Obtain the top feature ids for the selected class label\n",
    "word_importances, parsed_sentence = bow_explainer.explain_local(document, model=None)"
   ]
  },
  {
   "cell_type": "code",
   "execution_count": null,
   "metadata": {},
   "outputs": [],
   "source": [
    "bow_explainer.visualize(word_importances, parsed_sentence)"
   ]
  },
  {
   "cell_type": "code",
   "execution_count": null,
   "metadata": {},
   "outputs": [],
   "source": []
  },
  {
   "cell_type": "code",
   "execution_count": null,
   "metadata": {},
   "outputs": [],
   "source": []
  },
  {
   "cell_type": "code",
   "execution_count": null,
   "metadata": {},
   "outputs": [],
   "source": []
  }
 ],
 "metadata": {
  "kernelspec": {
   "display_name": "Python (interpret-text)",
   "language": "python",
   "name": "interpret-text-kernel"
  },
  "language_info": {
   "codemirror_mode": {
    "name": "ipython",
    "version": 3
   },
   "file_extension": ".py",
   "mimetype": "text/x-python",
   "name": "python",
   "nbconvert_exporter": "python",
   "pygments_lexer": "ipython3",
   "version": "3.7.4"
  }
 },
 "nbformat": 4,
 "nbformat_minor": 2
}
