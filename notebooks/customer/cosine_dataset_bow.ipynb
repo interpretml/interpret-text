{
 "cells": [
  {
   "cell_type": "code",
   "execution_count": 120,
   "metadata": {},
   "outputs": [],
   "source": [
    "%matplotlib inline"
   ]
  },
  {
   "cell_type": "code",
   "execution_count": 121,
   "metadata": {},
   "outputs": [],
   "source": [
    "#import libraries\n",
    "import sys\n",
    "import os\n",
    "import json\n",
    "import pandas as pd\n",
    "import numpy as np\n",
    "import scipy\n",
    "import string\n",
    "from scrapbook.api import glue\n",
    "working_dir = %pwd\n",
    "\n",
    "from interpret_text.bow.BOWExplainer import BOWExplainer\n",
    "#from interpret_text.common.utils_bow import BOWTokenizer, BOWEncoder\n",
    "\n",
    "# sklearn\n",
    "from sklearn.metrics import classification_report, accuracy_score, precision_recall_fscore_support\n",
    "from sklearn.model_selection import train_test_split\n",
    "from sklearn.base import TransformerMixin\n",
    "from sklearn.pipeline import Pipeline\n",
    "from sklearn.feature_extraction.text import CountVectorizer\n",
    "from sklearn.model_selection import GridSearchCV\n",
    "from sklearn.linear_model import LogisticRegression\n",
    "\n",
    "# spacy and nlp recipes\n",
    "import spacy\n",
    "from spacy.lang.en import English\n",
    "from utils_nlp.dataset.multinli import load_pandas_df"
   ]
  },
  {
   "cell_type": "code",
   "execution_count": 122,
   "metadata": {},
   "outputs": [],
   "source": [
    "#SPACY_LANG_MODEL = 'en_core_web_md'\n",
    "DATA_FOLDER = './prod_training_data/'\n",
    "TRAIN_SIZE = 0.7\n",
    "TEST_SIZE = 0.3"
   ]
  },
  {
   "cell_type": "code",
   "execution_count": 123,
   "metadata": {},
   "outputs": [],
   "source": [
    "suffix = \"_labeled_feedback.txt\"\n",
    "explainer_dict = {filename[:-1*len(suffix)]:{\"explainer\":None, \"filename\":filename} for filename in os.listdir(DATA_FOLDER)}"
   ]
  },
  {
   "cell_type": "code",
   "execution_count": 126,
   "metadata": {},
   "outputs": [
    {
     "name": "stderr",
     "output_type": "stream",
     "text": [
      "C:\\Users\\abchhetr\\AppData\\Local\\Continuum\\anaconda3\\envs\\interpret-text\\lib\\site-packages\\sklearn\\preprocessing\\label.py:235: DataConversionWarning: A column-vector y was passed when a 1d array was expected. Please change the shape of y to (n_samples, ), for example using ravel().\n",
      "  y = column_or_1d(y, warn=True)\n",
      "C:\\Users\\abchhetr\\AppData\\Local\\Continuum\\anaconda3\\envs\\interpret-text\\lib\\site-packages\\sklearn\\linear_model\\sag.py:337: ConvergenceWarning: The max_iter was reached which means the coef_ did not converge\n",
      "  \"the coef_ did not converge\", ConvergenceWarning)\n"
     ]
    },
    {
     "name": "stdout",
     "output_type": "stream",
     "text": [
      "mean_accuracy = 88.11758211426994%\n",
      "best classifier for cannot_reach_page: {'C': 10000, 'multi_class': 'multinomial', 'solver': 'saga'}\n",
      "accuracy for cannot_reach_page= 89.73509933774835%\n"
     ]
    },
    {
     "name": "stderr",
     "output_type": "stream",
     "text": [
      "C:\\Users\\abchhetr\\AppData\\Local\\Continuum\\anaconda3\\envs\\interpret-text\\lib\\site-packages\\sklearn\\preprocessing\\label.py:235: DataConversionWarning: A column-vector y was passed when a 1d array was expected. Please change the shape of y to (n_samples, ), for example using ravel().\n",
      "  y = column_or_1d(y, warn=True)\n",
      "C:\\Users\\abchhetr\\AppData\\Local\\Continuum\\anaconda3\\envs\\interpret-text\\lib\\site-packages\\sklearn\\linear_model\\sag.py:337: ConvergenceWarning: The max_iter was reached which means the coef_ did not converge\n",
      "  \"the coef_ did not converge\", ConvergenceWarning)\n"
     ]
    },
    {
     "name": "stdout",
     "output_type": "stream",
     "text": [
      "mean_accuracy = 88.68341153739995%\n",
      "best classifier for default_gateway: {'C': 10000, 'multi_class': 'multinomial', 'solver': 'saga'}\n",
      "accuracy for default_gateway= 88.57615894039735%\n"
     ]
    },
    {
     "name": "stderr",
     "output_type": "stream",
     "text": [
      "C:\\Users\\abchhetr\\AppData\\Local\\Continuum\\anaconda3\\envs\\interpret-text\\lib\\site-packages\\sklearn\\preprocessing\\label.py:235: DataConversionWarning: A column-vector y was passed when a 1d array was expected. Please change the shape of y to (n_samples, ), for example using ravel().\n",
      "  y = column_or_1d(y, warn=True)\n",
      "C:\\Users\\abchhetr\\AppData\\Local\\Continuum\\anaconda3\\envs\\interpret-text\\lib\\site-packages\\sklearn\\linear_model\\sag.py:337: ConvergenceWarning: The max_iter was reached which means the coef_ did not converge\n",
      "  \"the coef_ did not converge\", ConvergenceWarning)\n"
     ]
    },
    {
     "name": "stdout",
     "output_type": "stream",
     "text": [
      "mean_accuracy = 88.61440794921336%\n",
      "best classifier for dns_not_working_responding: {'C': 10000, 'multi_class': 'multinomial', 'solver': 'saga'}\n",
      "accuracy for dns_not_working_responding= 89.40397350993378%\n"
     ]
    },
    {
     "name": "stderr",
     "output_type": "stream",
     "text": [
      "C:\\Users\\abchhetr\\AppData\\Local\\Continuum\\anaconda3\\envs\\interpret-text\\lib\\site-packages\\sklearn\\preprocessing\\label.py:235: DataConversionWarning: A column-vector y was passed when a 1d array was expected. Please change the shape of y to (n_samples, ), for example using ravel().\n",
      "  y = column_or_1d(y, warn=True)\n",
      "C:\\Users\\abchhetr\\AppData\\Local\\Continuum\\anaconda3\\envs\\interpret-text\\lib\\site-packages\\sklearn\\linear_model\\sag.py:337: ConvergenceWarning: The max_iter was reached which means the coef_ did not converge\n",
      "  \"the coef_ did not converge\", ConvergenceWarning)\n"
     ]
    },
    {
     "name": "stdout",
     "output_type": "stream",
     "text": [
      "mean_accuracy = 88.78001656086116%\n",
      "best classifier for hotspot_issue: {'C': 10000, 'multi_class': 'multinomial', 'solver': 'saga'}\n",
      "accuracy for hotspot_issue= 88.46578366445917%\n"
     ]
    },
    {
     "name": "stderr",
     "output_type": "stream",
     "text": [
      "C:\\Users\\abchhetr\\AppData\\Local\\Continuum\\anaconda3\\envs\\interpret-text\\lib\\site-packages\\sklearn\\preprocessing\\label.py:235: DataConversionWarning: A column-vector y was passed when a 1d array was expected. Please change the shape of y to (n_samples, ), for example using ravel().\n",
      "  y = column_or_1d(y, warn=True)\n",
      "C:\\Users\\abchhetr\\AppData\\Local\\Continuum\\anaconda3\\envs\\interpret-text\\lib\\site-packages\\sklearn\\linear_model\\sag.py:337: ConvergenceWarning: The max_iter was reached which means the coef_ did not converge\n",
      "  \"the coef_ did not converge\", ConvergenceWarning)\n"
     ]
    },
    {
     "name": "stdout",
     "output_type": "stream",
     "text": [
      "mean_accuracy = 88.18658570245653%\n",
      "best classifier for printer_cannot_connect: {'C': 10000, 'multi_class': 'multinomial', 'solver': 'saga'}\n",
      "accuracy for printer_cannot_connect= 88.57615894039735%\n"
     ]
    },
    {
     "name": "stderr",
     "output_type": "stream",
     "text": [
      "C:\\Users\\abchhetr\\AppData\\Local\\Continuum\\anaconda3\\envs\\interpret-text\\lib\\site-packages\\sklearn\\preprocessing\\label.py:235: DataConversionWarning: A column-vector y was passed when a 1d array was expected. Please change the shape of y to (n_samples, ), for example using ravel().\n",
      "  y = column_or_1d(y, warn=True)\n",
      "C:\\Users\\abchhetr\\AppData\\Local\\Continuum\\anaconda3\\envs\\interpret-text\\lib\\site-packages\\sklearn\\linear_model\\sag.py:337: ConvergenceWarning: The max_iter was reached which means the coef_ did not converge\n",
      "  \"the coef_ did not converge\", ConvergenceWarning)\n"
     ]
    },
    {
     "name": "stdout",
     "output_type": "stream",
     "text": [
      "mean_accuracy = 88.75241512558652%\n",
      "best classifier for printer_not_working: {'C': 10000, 'multi_class': 'multinomial', 'solver': 'saga'}\n",
      "accuracy for printer_not_working= 88.35540838852097%\n"
     ]
    },
    {
     "name": "stderr",
     "output_type": "stream",
     "text": [
      "C:\\Users\\abchhetr\\AppData\\Local\\Continuum\\anaconda3\\envs\\interpret-text\\lib\\site-packages\\sklearn\\preprocessing\\label.py:235: DataConversionWarning: A column-vector y was passed when a 1d array was expected. Please change the shape of y to (n_samples, ), for example using ravel().\n",
      "  y = column_or_1d(y, warn=True)\n",
      "C:\\Users\\abchhetr\\AppData\\Local\\Continuum\\anaconda3\\envs\\interpret-text\\lib\\site-packages\\sklearn\\linear_model\\sag.py:337: ConvergenceWarning: The max_iter was reached which means the coef_ did not converge\n",
      "  \"the coef_ did not converge\", ConvergenceWarning)\n"
     ]
    },
    {
     "name": "stdout",
     "output_type": "stream",
     "text": [
      "mean_accuracy = 88.5730057963014%\n",
      "best classifier for printer_offline: {'C': 10000, 'multi_class': 'multinomial', 'solver': 'saga'}\n",
      "accuracy for printer_offline= 88.52097130242825%\n"
     ]
    },
    {
     "name": "stderr",
     "output_type": "stream",
     "text": [
      "C:\\Users\\abchhetr\\AppData\\Local\\Continuum\\anaconda3\\envs\\interpret-text\\lib\\site-packages\\sklearn\\preprocessing\\label.py:235: DataConversionWarning: A column-vector y was passed when a 1d array was expected. Please change the shape of y to (n_samples, ), for example using ravel().\n",
      "  y = column_or_1d(y, warn=True)\n",
      "C:\\Users\\abchhetr\\AppData\\Local\\Continuum\\anaconda3\\envs\\interpret-text\\lib\\site-packages\\sklearn\\linear_model\\sag.py:337: ConvergenceWarning: The max_iter was reached which means the coef_ did not converge\n",
      "  \"the coef_ did not converge\", ConvergenceWarning)\n"
     ]
    },
    {
     "name": "stdout",
     "output_type": "stream",
     "text": [
      "mean_accuracy = 88.94562517250897%\n",
      "best classifier for vpn_issue: {'C': 10000, 'multi_class': 'multinomial', 'solver': 'saga'}\n",
      "accuracy for vpn_issue= 87.52759381898456%\n"
     ]
    },
    {
     "name": "stderr",
     "output_type": "stream",
     "text": [
      "C:\\Users\\abchhetr\\AppData\\Local\\Continuum\\anaconda3\\envs\\interpret-text\\lib\\site-packages\\sklearn\\preprocessing\\label.py:235: DataConversionWarning: A column-vector y was passed when a 1d array was expected. Please change the shape of y to (n_samples, ), for example using ravel().\n",
      "  y = column_or_1d(y, warn=True)\n",
      "C:\\Users\\abchhetr\\AppData\\Local\\Continuum\\anaconda3\\envs\\interpret-text\\lib\\site-packages\\sklearn\\linear_model\\sag.py:337: ConvergenceWarning: The max_iter was reached which means the coef_ did not converge\n",
      "  \"the coef_ did not converge\", ConvergenceWarning)\n"
     ]
    },
    {
     "name": "stdout",
     "output_type": "stream",
     "text": [
      "mean_accuracy = 88.66961081976262%\n",
      "best classifier for wifi_disconnecting: {'C': 10000, 'multi_class': 'multinomial', 'solver': 'saga'}\n",
      "accuracy for wifi_disconnecting= 88.0242825607064%\n"
     ]
    },
    {
     "name": "stderr",
     "output_type": "stream",
     "text": [
      "C:\\Users\\abchhetr\\AppData\\Local\\Continuum\\anaconda3\\envs\\interpret-text\\lib\\site-packages\\sklearn\\preprocessing\\label.py:235: DataConversionWarning: A column-vector y was passed when a 1d array was expected. Please change the shape of y to (n_samples, ), for example using ravel().\n",
      "  y = column_or_1d(y, warn=True)\n",
      "C:\\Users\\abchhetr\\AppData\\Local\\Continuum\\anaconda3\\envs\\interpret-text\\lib\\site-packages\\sklearn\\linear_model\\sag.py:337: ConvergenceWarning: The max_iter was reached which means the coef_ did not converge\n",
      "  \"the coef_ did not converge\", ConvergenceWarning)\n"
     ]
    },
    {
     "name": "stdout",
     "output_type": "stream",
     "text": [
      "mean_accuracy = 88.50400220811481%\n",
      "best classifier for wifi_not_working: {'C': 10000, 'multi_class': 'multinomial', 'solver': 'saga'}\n",
      "accuracy for wifi_not_working= 89.79028697571744%\n"
     ]
    }
   ],
   "source": [
    "for category in explainer_dict:\n",
    "    filename = explainer_dict[category][\"filename\"]\n",
    "    df_reach = pd.read_csv(DATA_FOLDER+filename, sep=\"\\t\")\n",
    "\n",
    "    # fetch documents and labels from data frame\n",
    "    X_str = df['verbatim'] # the document we want to analyze\n",
    "    ylabels = df['cannot_reach_page'].apply(str) # the labels, or answers, we want to test against converted to strings\n",
    "    # Create explainer object that contains defaault glassbox classfier and explanation methods\n",
    "    bow_explainer = BOWExplainer()\n",
    "    # encode document and labels into vector form using 1-gram Bag of Words.\n",
    "    X_train, X_test, y_train, y_test = bow_explainer.encode(X_str,ylabels)\n",
    "    classifier, best_params = bow_explainer.train(X_train,y_train)\n",
    "    # obtain best classifier and hyper params\n",
    "    print(\"best classifier for {}: \".format(category) + str(best_params))\n",
    "    mean_accuracy = classifier.score(X_test, y_test, sample_weight=None)\n",
    "    print(\"accuracy for {}= \".format(category) + str(mean_accuracy*100) + \"%\")\n",
    "    y_pred = classifier.predict(X_test)\n",
    "    [precision, recall, fscore, support] = precision_recall_fscore_support(y_test, y_pred,average='macro')\n",
    "    explainer_dict[category][\"explainer\"] = bow_explainer\n",
    "    "
   ]
  },
  {
   "cell_type": "code",
   "execution_count": 128,
   "metadata": {},
   "outputs": [
    {
     "name": "stdout",
     "output_type": "stream",
     "text": [
      "The class names are as follows\n",
      "['0.0' '1.0']\n",
      "[[-4.65789490e-03 -3.90352504e-03 -1.97804856e-02 ... -1.18595224e-02\n",
      "  -1.18595224e-02 -1.91013196e-05]]\n",
      "[0]\n"
     ]
    },
    {
     "data": {
      "image/png": "[encoded data removed]",
      "text/plain": [
       "<Figure size 1008x504 with 1 Axes>"
      ]
     },
     "metadata": {
      "needs_background": "light"
     },
     "output_type": "display_data"
    }
   ],
   "source": [
    "bow_explainer = explainer_dict[\"cannot_reach_page\"][\"explainer\"]\n",
    "# bow_explainer = explainer_dict[\"vpn_issue\"][\"explainer\"]\n",
    "print(\"The class names are as follows\")\n",
    "print(bow_explainer.preprocessor.labelEncoder.classes_)\n",
    "label_name = \"0.0\"\n",
    "\n",
    "#Obtain the top feature ids for the selected class label.           \n",
    "#Map top features back to words.\n",
    "top_words, top_importances = bow_explainer.explain_global(label_name)"
   ]
  },
  {
   "cell_type": "code",
   "execution_count": 118,
   "metadata": {},
   "outputs": [
    {
     "name": "stderr",
     "output_type": "stream",
     "text": [
      "C:\\Users\\abchhetr\\AppData\\Local\\Continuum\\anaconda3\\envs\\interpret-text\\lib\\site-packages\\sklearn\\preprocessing\\label.py:235: DataConversionWarning: A column-vector y was passed when a 1d array was expected. Please change the shape of y to (n_samples, ), for example using ravel().\n",
      "  y = column_or_1d(y, warn=True)\n"
     ]
    }
   ],
   "source": [
    "#Enter any document & label pair that needs to be interpreted\n",
    "document = \"Can't reach this page https://webmail.optusnet.com.au/index.php/mail | Can not connect to Optus Web Mail.\"\n",
    "document = \"my computer keeps saying that I am not connected and I have to keep refreshing.\"\n",
    "document = \"I CANT GET ON THE INTERNET WITH MY DONGLE CAN YOU HELP PLEASE..  | I AM IN A RESPITE HOME THAT DOESN`T HAVE A INTERNET CONNECTION I WAS TOLD TO USE A DONGLE AND I DID THIS AND IT HAS WORKED IN THE PAST CAN YOU HELP ME GET ON PLEAE THANK YOU.\"\n",
    "\n",
    "#Obtain the top feature ids for the selected class label\n",
    "word_importances, parsed_sentence = bow_explainer.explain_local(document, model=None)"
   ]
  },
  {
   "cell_type": "code",
   "execution_count": 119,
   "metadata": {},
   "outputs": [
    {
     "data": {
      "text/html": [
       "I <span style=\"background-color:rgba(250,0,0,0.0417126300365404);\">CANT</span> GET ON THE <span style=\"background-color:rgba(250,0,0,0.3356306339082272);\">INTERNET</span> WITH MY <span style=\"background-color:rgba(250,0,0,0.0994842892094126);\">DONGLE</span> CAN YOU <span style=\"background-color:rgba(250,0,0,0.5610803673215405);\">HELP</span> PLEASE <span style=\"background-color:rgba(135,206,250,0.10415525413343496);\">..</span>   | I AM IN A RESPITE <span style=\"background-color:rgba(250,0,0,0.7896205217507783);\">HOME</span> THAT DOESN`T HAVE A <span style=\"background-color:rgba(250,0,0,0.3356306339082272);\">INTERNET</span> <span style=\"background-color:rgba(250,0,0,0.013196362145427427);\">CONNECTION</span> I WAS <span style=\"background-color:rgba(250,0,0,0.6122774576881805);\">TOLD</span> TO <span style=\"background-color:rgba(135,206,250,0.08365404682783327);\">USE</span> A <span style=\"background-color:rgba(250,0,0,0.0994842892094126);\">DONGLE</span> AND I DID THIS AND IT HAS <span style=\"background-color:rgba(135,206,250,0.32608408068004036);\">WORKED</span> IN THE <span style=\"background-color:rgba(135,206,250,0.17329345886433453);\">PAST</span> CAN YOU <span style=\"background-color:rgba(250,0,0,0.5610803673215405);\">HELP</span> ME GET ON PLEAE <span style=\"background-color:rgba(250,0,0,0.749647724689572);\">THANK</span> YOU ."
      ],
      "text/plain": [
       "<IPython.core.display.HTML object>"
      ]
     },
     "metadata": {},
     "output_type": "display_data"
    }
   ],
   "source": [
    "bow_explainer.visualize(word_importances, parsed_sentence)"
   ]
  },
  {
   "cell_type": "code",
   "execution_count": null,
   "metadata": {},
   "outputs": [],
   "source": []
  },
  {
   "cell_type": "code",
   "execution_count": null,
   "metadata": {},
   "outputs": [],
   "source": []
  },
  {
   "cell_type": "code",
   "execution_count": null,
   "metadata": {},
   "outputs": [],
   "source": []
  }
 ],
 "metadata": {
  "kernelspec": {
   "display_name": "Python (interpret-text)",
   "language": "python",
   "name": "interpret-text-kernel"
  },
  "language_info": {
   "codemirror_mode": {
    "name": "ipython",
    "version": 3
   },
   "file_extension": ".py",
   "mimetype": "text/x-python",
   "name": "python",
   "nbconvert_exporter": "python",
   "pygments_lexer": "ipython3",
   "version": "3.7.4"
  }
 },
 "nbformat": 4,
 "nbformat_minor": 2
}
