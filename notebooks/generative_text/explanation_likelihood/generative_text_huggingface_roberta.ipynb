{
 "cells": [
  {
   "cell_type": "markdown",
   "metadata": {},
   "source": [
    "# Generative Text Explainer with HuggingFace RoBERTa\n",
    "This notebook demonstrates the use of prompt explainers for the HuggingFace RoBERTa model."
   ]
  },
  {
   "cell_type": "code",
   "execution_count": null,
   "metadata": {},
   "outputs": [],
   "source": [
    "from interpret_text.generative.lime_tools.explainers import LocalExplanationLikelihood\n",
    "from interpret_text.generative.model_lib.hf_tooling import HF_LM\n",
    "import transformers\n",
    "import torch"
   ]
  },
  {
   "cell_type": "markdown",
   "metadata": {},
   "source": [
    "# Introduction\n",
    "This notebook illustrates the application of interpret-text for local analysis with HuggingFace RoBERTa, specifically in scenarios where we have access to log probabilities. It guides through essential API interactions to extract importance scores for various segments of a prompt.\n",
    "\n",
    "Note:\n",
    "- The 'LocalExplanationLikelihood' is particularly used for models that return log probabilities"
   ]
  },
  {
   "cell_type": "markdown",
   "metadata": {},
   "source": [
    "Here we provide a prompt that that we need to be intrepreted"
   ]
  },
  {
   "cell_type": "code",
   "execution_count": null,
   "metadata": {},
   "outputs": [],
   "source": [
    "# Dummy text for testing\n",
    "dummy_text = \"\"\"Answer the question given the context.\n",
    "context: Architecturally, the school has a Catholic character. Atop the Main Building's gold dome is a golden statue of the Virgin Mary. Immediately in front of the Main Building and facing it, is a copper statue of Christ with arms upraised with the legend \"Venite Ad Me Omnes\". Next to the Main Building is the Basilica of the Sacred Heart. Immediately behind the basilica is the Grotto, a Marian place of prayer and reflection. It is a replica of the grotto at Lourdes, France where the Virgin Mary reputedly appeared to Saint Bernadette Soubirous in 1858. At the end of the main drive (and in a direct line that connects through 3 statues and the Gold Dome), is a simple, modern stone statue of Mary.\n",
    "question: To whom did the Virgin Mary allegedly appear in 1858 in Lourdes France?\"\"\""
   ]
  },
  {
   "cell_type": "markdown",
   "metadata": {},
   "source": [
    "# Load Model\n",
    "\n",
    "Create a HuggingFace RoBERTa model wrapper."
   ]
  },
  {
   "cell_type": "code",
   "execution_count": null,
   "metadata": {},
   "outputs": [],
   "source": [
    "def load_model(model_name: str):\n",
    "    print(\"Loading model...\")\n",
    "    tokenizer = transformers.AutoTokenizer.from_pretrained(model_name)\n",
    "    model = transformers.AutoModelForCausalLM.from_pretrained(\n",
    "        model_name, trust_remote_code=True, torch_dtype=torch.bfloat16)\n",
    "    \n",
    "    model = model.eval()\n",
    "    model = model.to(\"cuda\")\n",
    "    model_wrapped = HF_LM(model, tokenizer, device=\"cuda\")\n",
    "    return model_wrapped\n",
    "\n",
    "model_wrapped = load_model(\"roberta-base\")"
   ]
  },
  {
   "cell_type": "markdown",
   "metadata": {},
   "source": [
    "Get the wrapped model's output."
   ]
  },
  {
   "cell_type": "code",
   "execution_count": null,
   "metadata": {},
   "outputs": [],
   "source": [
    "prompt = dummy_text\n",
    "max_completion = 50  # Define max tokens for the completion\n",
    "completion = model_wrapped.sample([prompt], max_new_tokens=max_completion)[0]"
   ]
  },
  {
   "cell_type": "markdown",
   "metadata": {},
   "source": [
    "# Local Importances\n",
    "\n",
    "Local importances are the most and least important words for a single document."
   ]
  },
  {
   "cell_type": "code",
   "execution_count": null,
   "metadata": {},
   "outputs": [],
   "source": [
    "# Initialize the explainer\n",
    "explainer = LocalExplanationLikelihood(perturbation_model=\"removal\",\n",
    "                                       partition_fn=\"sentences\",\n",
    "                                       partition_kwargs={},\n",
    "                                       progress_bar=None)\n",
    "\n",
    "# Perform the explanation\n",
    "attribution, parts = explainer.attribution(\n",
    "    model_wrapped,\n",
    "    prompt,\n",
    "    completion,\n",
    ")"
   ]
  },
  {
   "cell_type": "code",
   "execution_count": null,
   "metadata": {},
   "outputs": [],
   "source": [
    "# Print the explanation results\n",
    "print(\"attribution_scores contain (feat_idx, score) pairs: \\n\", attribution)\n",
    "print(\"\\nlist of parts from the prompt: \\n\", parts)"
   ]
  }
 ],
 "metadata": {
  "kernelspec": {
   "display_name": "Python 3 (ipykernel)",
   "language": "python",
   "name": "python3"
  },
  "language_info": {
   "codemirror_mode": {
    "name": "ipython",
    "version": 3
   },
   "file_extension": ".py",
   "mimetype": "text/x-python",
   "name": "python",
   "nbconvert_exporter": "python",
   "pygments_lexer": "ipython3",
   "version": "3.10.13"
  }
 },
 "nbformat": 4,
 "nbformat_minor": 4
}
